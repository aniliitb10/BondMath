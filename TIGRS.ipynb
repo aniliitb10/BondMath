{
 "cells": [
  {
   "cell_type": "markdown",
   "source": [
    "###  Treasury Investment Growth Receipts (TIGRS) by Merril Lynch \n",
    "A story of financial engineering by Merril Lynch when there was:\n",
    "1) limited supply of Zero Coupon Bonds\n",
    "2) Difficult to get the coupon payments "
   ],
   "metadata": {
    "collapsed": false
   },
   "id": "9cbb05ce95d2d33b"
  },
  {
   "cell_type": "code",
   "outputs": [],
   "source": [
    "import pandas as pd"
   ],
   "metadata": {
    "collapsed": false,
    "ExecuteTime": {
     "end_time": "2024-01-02T05:17:50.551956940Z",
     "start_time": "2024-01-02T05:17:50.497333002Z"
    }
   },
   "id": "5866ad94a659e404",
   "execution_count": 32
  },
  {
   "cell_type": "code",
   "execution_count": 33,
   "id": "052587a0-b195-4862-8ac7-84a251fa1ab7",
   "metadata": {
    "ExecuteTime": {
     "end_time": "2024-01-02T05:17:50.657219013Z",
     "start_time": "2024-01-02T05:17:50.515427424Z"
    }
   },
   "outputs": [],
   "source": [
    "# Some basic details\n",
    "face_value = 100\n",
    "price = 100  # trading at par\n",
    "coupon_rate = 12.5  # percent\n",
    "maturity = 30 # years\n",
    "periodicity = 2\n",
    "total_par_value = 100_000_000"
   ]
  },
  {
   "cell_type": "code",
   "execution_count": 34,
   "id": "79b8fc03-f218-4016-a0ab-a52a2adf24bd",
   "metadata": {
    "ExecuteTime": {
     "end_time": "2024-01-02T05:17:50.778774607Z",
     "start_time": "2024-01-02T05:17:50.634580120Z"
    }
   },
   "outputs": [],
   "source": [
    "import util\n",
    "from interval import Interval"
   ]
  },
  {
   "cell_type": "code",
   "execution_count": 35,
   "id": "a26db635-44be-4ca9-a2cd-6bcd0044c784",
   "metadata": {
    "ExecuteTime": {
     "end_time": "2024-01-02T05:17:50.803594382Z",
     "start_time": "2024-01-02T05:17:50.778701862Z"
    }
   },
   "outputs": [],
   "source": [
    "payments = util.get_bond_payments(face_value=100, coupon_rate_pct=coupon_rate, coupon_period=Interval(months=6), maturity=Interval(years=maturity))\n",
    "schedule = [6 * month for month in range(1, maturity*2+1)]"
   ]
  },
  {
   "cell_type": "code",
   "outputs": [
    {
     "data": {
      "text/plain": "    payments ($ Millions)    Schedule\n0                    6.25    6 months\n1                    6.25   12 months\n2                    6.25   18 months\n3                    6.25   24 months\n4                    6.25   30 months\n5                    6.25   36 months\n6                    6.25   42 months\n7                    6.25   48 months\n8                    6.25   54 months\n9                    6.25   60 months\n10                   6.25   66 months\n11                   6.25   72 months\n12                   6.25   78 months\n13                   6.25   84 months\n14                   6.25   90 months\n15                   6.25   96 months\n16                   6.25  102 months\n17                   6.25  108 months\n18                   6.25  114 months\n19                   6.25  120 months\n20                   6.25  126 months\n21                   6.25  132 months\n22                   6.25  138 months\n23                   6.25  144 months\n24                   6.25  150 months\n25                   6.25  156 months\n26                   6.25  162 months\n27                   6.25  168 months\n28                   6.25  174 months\n29                   6.25  180 months\n30                   6.25  186 months\n31                   6.25  192 months\n32                   6.25  198 months\n33                   6.25  204 months\n34                   6.25  210 months\n35                   6.25  216 months\n36                   6.25  222 months\n37                   6.25  228 months\n38                   6.25  234 months\n39                   6.25  240 months\n40                   6.25  246 months\n41                   6.25  252 months\n42                   6.25  258 months\n43                   6.25  264 months\n44                   6.25  270 months\n45                   6.25  276 months\n46                   6.25  282 months\n47                   6.25  288 months\n48                   6.25  294 months\n49                   6.25  300 months\n50                   6.25  306 months\n51                   6.25  312 months\n52                   6.25  318 months\n53                   6.25  324 months\n54                   6.25  330 months\n55                   6.25  336 months\n56                   6.25  342 months\n57                   6.25  348 months\n58                   6.25  354 months\n59                 106.25  360 months",
      "text/html": "<div>\n<style scoped>\n    .dataframe tbody tr th:only-of-type {\n        vertical-align: middle;\n    }\n\n    .dataframe tbody tr th {\n        vertical-align: top;\n    }\n\n    .dataframe thead th {\n        text-align: right;\n    }\n</style>\n<table border=\"1\" class=\"dataframe\">\n  <thead>\n    <tr style=\"text-align: right;\">\n      <th></th>\n      <th>payments ($ Millions)</th>\n      <th>Schedule</th>\n    </tr>\n  </thead>\n  <tbody>\n    <tr>\n      <th>0</th>\n      <td>6.25</td>\n      <td>6 months</td>\n    </tr>\n    <tr>\n      <th>1</th>\n      <td>6.25</td>\n      <td>12 months</td>\n    </tr>\n    <tr>\n      <th>2</th>\n      <td>6.25</td>\n      <td>18 months</td>\n    </tr>\n    <tr>\n      <th>3</th>\n      <td>6.25</td>\n      <td>24 months</td>\n    </tr>\n    <tr>\n      <th>4</th>\n      <td>6.25</td>\n      <td>30 months</td>\n    </tr>\n    <tr>\n      <th>5</th>\n      <td>6.25</td>\n      <td>36 months</td>\n    </tr>\n    <tr>\n      <th>6</th>\n      <td>6.25</td>\n      <td>42 months</td>\n    </tr>\n    <tr>\n      <th>7</th>\n      <td>6.25</td>\n      <td>48 months</td>\n    </tr>\n    <tr>\n      <th>8</th>\n      <td>6.25</td>\n      <td>54 months</td>\n    </tr>\n    <tr>\n      <th>9</th>\n      <td>6.25</td>\n      <td>60 months</td>\n    </tr>\n    <tr>\n      <th>10</th>\n      <td>6.25</td>\n      <td>66 months</td>\n    </tr>\n    <tr>\n      <th>11</th>\n      <td>6.25</td>\n      <td>72 months</td>\n    </tr>\n    <tr>\n      <th>12</th>\n      <td>6.25</td>\n      <td>78 months</td>\n    </tr>\n    <tr>\n      <th>13</th>\n      <td>6.25</td>\n      <td>84 months</td>\n    </tr>\n    <tr>\n      <th>14</th>\n      <td>6.25</td>\n      <td>90 months</td>\n    </tr>\n    <tr>\n      <th>15</th>\n      <td>6.25</td>\n      <td>96 months</td>\n    </tr>\n    <tr>\n      <th>16</th>\n      <td>6.25</td>\n      <td>102 months</td>\n    </tr>\n    <tr>\n      <th>17</th>\n      <td>6.25</td>\n      <td>108 months</td>\n    </tr>\n    <tr>\n      <th>18</th>\n      <td>6.25</td>\n      <td>114 months</td>\n    </tr>\n    <tr>\n      <th>19</th>\n      <td>6.25</td>\n      <td>120 months</td>\n    </tr>\n    <tr>\n      <th>20</th>\n      <td>6.25</td>\n      <td>126 months</td>\n    </tr>\n    <tr>\n      <th>21</th>\n      <td>6.25</td>\n      <td>132 months</td>\n    </tr>\n    <tr>\n      <th>22</th>\n      <td>6.25</td>\n      <td>138 months</td>\n    </tr>\n    <tr>\n      <th>23</th>\n      <td>6.25</td>\n      <td>144 months</td>\n    </tr>\n    <tr>\n      <th>24</th>\n      <td>6.25</td>\n      <td>150 months</td>\n    </tr>\n    <tr>\n      <th>25</th>\n      <td>6.25</td>\n      <td>156 months</td>\n    </tr>\n    <tr>\n      <th>26</th>\n      <td>6.25</td>\n      <td>162 months</td>\n    </tr>\n    <tr>\n      <th>27</th>\n      <td>6.25</td>\n      <td>168 months</td>\n    </tr>\n    <tr>\n      <th>28</th>\n      <td>6.25</td>\n      <td>174 months</td>\n    </tr>\n    <tr>\n      <th>29</th>\n      <td>6.25</td>\n      <td>180 months</td>\n    </tr>\n    <tr>\n      <th>30</th>\n      <td>6.25</td>\n      <td>186 months</td>\n    </tr>\n    <tr>\n      <th>31</th>\n      <td>6.25</td>\n      <td>192 months</td>\n    </tr>\n    <tr>\n      <th>32</th>\n      <td>6.25</td>\n      <td>198 months</td>\n    </tr>\n    <tr>\n      <th>33</th>\n      <td>6.25</td>\n      <td>204 months</td>\n    </tr>\n    <tr>\n      <th>34</th>\n      <td>6.25</td>\n      <td>210 months</td>\n    </tr>\n    <tr>\n      <th>35</th>\n      <td>6.25</td>\n      <td>216 months</td>\n    </tr>\n    <tr>\n      <th>36</th>\n      <td>6.25</td>\n      <td>222 months</td>\n    </tr>\n    <tr>\n      <th>37</th>\n      <td>6.25</td>\n      <td>228 months</td>\n    </tr>\n    <tr>\n      <th>38</th>\n      <td>6.25</td>\n      <td>234 months</td>\n    </tr>\n    <tr>\n      <th>39</th>\n      <td>6.25</td>\n      <td>240 months</td>\n    </tr>\n    <tr>\n      <th>40</th>\n      <td>6.25</td>\n      <td>246 months</td>\n    </tr>\n    <tr>\n      <th>41</th>\n      <td>6.25</td>\n      <td>252 months</td>\n    </tr>\n    <tr>\n      <th>42</th>\n      <td>6.25</td>\n      <td>258 months</td>\n    </tr>\n    <tr>\n      <th>43</th>\n      <td>6.25</td>\n      <td>264 months</td>\n    </tr>\n    <tr>\n      <th>44</th>\n      <td>6.25</td>\n      <td>270 months</td>\n    </tr>\n    <tr>\n      <th>45</th>\n      <td>6.25</td>\n      <td>276 months</td>\n    </tr>\n    <tr>\n      <th>46</th>\n      <td>6.25</td>\n      <td>282 months</td>\n    </tr>\n    <tr>\n      <th>47</th>\n      <td>6.25</td>\n      <td>288 months</td>\n    </tr>\n    <tr>\n      <th>48</th>\n      <td>6.25</td>\n      <td>294 months</td>\n    </tr>\n    <tr>\n      <th>49</th>\n      <td>6.25</td>\n      <td>300 months</td>\n    </tr>\n    <tr>\n      <th>50</th>\n      <td>6.25</td>\n      <td>306 months</td>\n    </tr>\n    <tr>\n      <th>51</th>\n      <td>6.25</td>\n      <td>312 months</td>\n    </tr>\n    <tr>\n      <th>52</th>\n      <td>6.25</td>\n      <td>318 months</td>\n    </tr>\n    <tr>\n      <th>53</th>\n      <td>6.25</td>\n      <td>324 months</td>\n    </tr>\n    <tr>\n      <th>54</th>\n      <td>6.25</td>\n      <td>330 months</td>\n    </tr>\n    <tr>\n      <th>55</th>\n      <td>6.25</td>\n      <td>336 months</td>\n    </tr>\n    <tr>\n      <th>56</th>\n      <td>6.25</td>\n      <td>342 months</td>\n    </tr>\n    <tr>\n      <th>57</th>\n      <td>6.25</td>\n      <td>348 months</td>\n    </tr>\n    <tr>\n      <th>58</th>\n      <td>6.25</td>\n      <td>354 months</td>\n    </tr>\n    <tr>\n      <th>59</th>\n      <td>106.25</td>\n      <td>360 months</td>\n    </tr>\n  </tbody>\n</table>\n</div>"
     },
     "execution_count": 36,
     "metadata": {},
     "output_type": "execute_result"
    }
   ],
   "source": [
    "pd.DataFrame(data={'payments ($ Millions)': payments, 'Schedule': [f'{month} months' for month in schedule]})"
   ],
   "metadata": {
    "collapsed": false,
    "ExecuteTime": {
     "end_time": "2024-01-02T05:17:51.012104688Z",
     "start_time": "2024-01-02T05:17:50.803726981Z"
    }
   },
   "id": "f52a12e130014106",
   "execution_count": 36
  },
  {
   "cell_type": "code",
   "outputs": [],
   "source": [
    "import math\n",
    "\n",
    "def get_zero_price(fv: float, bey_pct: float, maturity_in_months: int):\n",
    "    \"\"\"\n",
    "    Calculates the zero coupon bond price given Face value, Bond Equivalent Yield and Maturity. Some numerical values are hardcoded for simplicity\n",
    "    :param fv: Face value of the bond\n",
    "    :param bey_pct: Bond Equivalent Yield in percentage\n",
    "    :param maturity_in_months: Number of months for maturity\n",
    "    :return: current price for the zero coupon bond\n",
    "    \"\"\"\n",
    "    return fv / math.pow((1 + bey_pct / 100 / 2), maturity_in_months / 6) \n",
    "    "
   ],
   "metadata": {
    "collapsed": false,
    "ExecuteTime": {
     "end_time": "2024-01-02T05:17:51.043482108Z",
     "start_time": "2024-01-02T05:17:50.975537721Z"
    }
   },
   "id": "5513337b7f1bdbb9",
   "execution_count": 37
  },
  {
   "cell_type": "code",
   "outputs": [
    {
     "data": {
      "text/plain": "123.6616119063375"
     },
     "execution_count": 38,
     "metadata": {},
     "output_type": "execute_result"
    }
   ],
   "source": [
    "bond_bey_pct = 10\n",
    "total_buy_price = [get_zero_price(bond_fv, bond_bey_pct, bond_maturity) for bond_fv, bond_maturity in zip(payments, schedule)]\n",
    "sum(total_buy_price)"
   ],
   "metadata": {
    "collapsed": false,
    "ExecuteTime": {
     "end_time": "2024-01-02T05:17:51.313202615Z",
     "start_time": "2024-01-02T05:17:51.007825095Z"
    }
   },
   "id": "7d028ad6de69883c",
   "execution_count": 38
  },
  {
   "cell_type": "code",
   "outputs": [
    {
     "data": {
      "text/plain": "[5.9523809523809526,\n 5.668934240362812,\n 5.398984990821725,\n 5.141890467449262,\n 4.897038540427868,\n 4.6638462289789215,\n 4.441758313313258,\n 4.230246012679293,\n 4.028805726361232,\n 3.836957834629745,\n 3.654245556790233,\n 3.480233863609745,\n 3.3145084415330905,\n 3.156674706221991,\n 3.006356863068562,\n 2.8631970124462502,\n 2.726854297567857,\n 2.5970040929217686,\n 2.473337231354065,\n 2.3555592679562527,\n 2.2433897790059545,\n 2.136561694291385,\n 2.0348206612298907,\n 1.9379244392665624,\n 1.8456423231110117,\n 1.7577545934390588,\n 1.6740519937514844,\n 1.5943352321442708,\n 1.5184145068040673,\n 1.4461090540991115,\n 1.3772467181896302,\n 1.3116635411329811,\n 1.249203372507601,\n 1.1897174976262865,\n 1.1330642834536062,\n 1.0791088413843868,\n 1.0277227060803684,\n 0.9787835296003508,\n 0.9321747900955721,\n 0.8877855143767354,\n 0.8455100136921289,\n 0.8052476320877417,\n 0.7669025067502301,\n 0.7303833397621239,\n 0.6956031807258323,\n 0.6624792197388879,\n 0.6309325902275122,\n 0.6008881811690592,\n 0.5722744582562469,\n 0.5450232935773779,\n 0.5190698034070266,\n 0.4943521937209777,\n 0.4708116130675978,\n 0.4483920124453312,\n 0.4270400118526964,\n 0.40670477319304416,\n 0.3873378792314706,\n 0.3688932183156862,\n 0.35132687458636785,\n 5.688149398065002]"
     },
     "execution_count": 39,
     "metadata": {},
     "output_type": "execute_result"
    }
   ],
   "source": [
    "total_buy_price"
   ],
   "metadata": {
    "collapsed": false,
    "ExecuteTime": {
     "end_time": "2024-01-02T05:17:51.333048611Z",
     "start_time": "2024-01-02T05:17:51.207229167Z"
    }
   },
   "id": "c1efe32a1b6a4f8b",
   "execution_count": 39
  },
  {
   "cell_type": "markdown",
   "source": [
    "## Important Sales Outlet\n",
    "1) Individual Retirement Accounts (IRAs) allowed upto USD 2000 non-taxable investment \n",
    "2) Merrill broker would suggest 40 TIGRS priced at $50 to yield 10.239% (semi-annual) - these had face value of USD 1000\n"
   ],
   "metadata": {
    "collapsed": false
   },
   "id": "f922a5870a332a02"
  },
  {
   "cell_type": "markdown",
   "source": [
    "## Impact\n",
    "Given the success TIGRS:\n",
    "1) Salomon Brothers created CATS (Certificate of Accrual on Treasury Securities)\n",
    "2) Lehman Brothers created LIONS (Lehman Investment Opportunity Notes) \n",
    "3) US Treasury responded with some clever financial engineering of its own - STRIPS program with CUSIP (Committee of Uniform Security Identification Procedure)\n",
    "    - Coupon interest to be paid on a given date - say, Feb 15, 2018 - has the same CUSIP regardless of which Treasury Bond or Notes it came from!\n",
    "    - Thereby, enhancing the liquidity of the security  "
   ],
   "metadata": {
    "collapsed": false
   },
   "id": "9be433c2a468456b"
  },
  {
   "cell_type": "code",
   "outputs": [],
   "source": [],
   "metadata": {
    "collapsed": false,
    "ExecuteTime": {
     "end_time": "2024-01-02T05:17:51.333561149Z",
     "start_time": "2024-01-02T05:17:51.318686324Z"
    }
   },
   "id": "bbc974c67f6699db",
   "execution_count": 39
  }
 ],
 "metadata": {
  "kernelspec": {
   "display_name": "Python 3 (ipykernel)",
   "language": "python",
   "name": "python3"
  },
  "language_info": {
   "codemirror_mode": {
    "name": "ipython",
    "version": 3
   },
   "file_extension": ".py",
   "mimetype": "text/x-python",
   "name": "python",
   "nbconvert_exporter": "python",
   "pygments_lexer": "ipython3",
   "version": "3.11.0rc1"
  }
 },
 "nbformat": 4,
 "nbformat_minor": 5
}
